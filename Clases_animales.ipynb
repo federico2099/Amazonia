{
 "cells": [
  {
   "cell_type": "code",
   "execution_count": 59,
   "metadata": {},
   "outputs": [
    {
     "data": {
      "text/plain": [
       "3.0"
      ]
     },
     "execution_count": 59,
     "metadata": {},
     "output_type": "execute_result"
    }
   ],
   "source": [
    "import random\n",
    "import numpy as np\n",
    "\n",
    "class Animales:\n",
    "    def __init__(self,velocidad=1.,vision=1.):\n",
    "        self.velocidad = velocidad\n",
    "        self.vision = vision\n",
    "#        self.hambre = hambre\n",
    "#        self.vida = vida\n",
    "\n",
    "    def moverse(self):\n",
    "        mov_x = np.cos(random.randrange(0,100)*2.*3.14) #No sabemos como cargar la velocidad\n",
    "        mov_y = np.sin(random.randrange(0,100)*2.*3.14) #Poner un pi como la gente\n",
    "        #habria que sortear numeros para x e y que sean  -1, 0 o 1\n",
    "        return mov_x,mov_y\n",
    "\n",
    "    def ver(self):\n",
    "        pass\n",
    "        \n",
    "#Tenemos que definir el metodo vision\n",
    "\n",
    "class Presa(Animales):\n",
    "    def __init__(self):\n",
    "        Animales.__init__(self)\n",
    "        self.velocidad *= 2\n",
    "        self.vision *= 4\n",
    "\n",
    "class Depredador(Animales):\n",
    "    def __init__(self):\n",
    "        Animales.__init__(self)\n",
    "        self.velocidad *= 4\n",
    "        self.vision *= 4\n",
    "        \n",
    "        \n",
    "A = Depredador()\n",
    "B = Presa()\n",
    "A.velocidad\n",
    "#print(A.velocidad())"
   ]
  },
  {
   "cell_type": "code",
   "execution_count": 54,
   "metadata": {
    "collapsed": true
   },
   "outputs": [],
   "source": [
    "class TVseries(object):\n",
    " \"\"\"\n",
    " Define a tv serie class\n",
    " \"\"\"\n",
    " def __init__(self, name, eps):\n",
    "  self.name = name\n",
    "  self.eps_per_s = eps\n",
    "\n",
    " def seen(self, num=1):\n",
    "  self.num_watched += num\n"
   ]
  },
  {
   "cell_type": "code",
   "execution_count": 55,
   "metadata": {
    "collapsed": true
   },
   "outputs": [],
   "source": [
    "GOT =TVseries('got', 3)"
   ]
  },
  {
   "cell_type": "code",
   "execution_count": 57,
   "metadata": {},
   "outputs": [
    {
     "name": "stdout",
     "output_type": "stream",
     "text": [
      "<__main__.TVseries object at 0x2b5e2031c940>\n"
     ]
    }
   ],
   "source": [
    "print(GOT)"
   ]
  },
  {
   "cell_type": "code",
   "execution_count": null,
   "metadata": {
    "collapsed": true
   },
   "outputs": [],
   "source": []
  }
 ],
 "metadata": {
  "kernelspec": {
   "display_name": "Python 3",
   "language": "python",
   "name": "python3"
  },
  "language_info": {
   "codemirror_mode": {
    "name": "ipython",
    "version": 3
   },
   "file_extension": ".py",
   "mimetype": "text/x-python",
   "name": "python",
   "nbconvert_exporter": "python",
   "pygments_lexer": "ipython3",
   "version": "3.6.1"
  }
 },
 "nbformat": 4,
 "nbformat_minor": 2
}
